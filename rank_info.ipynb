{
 "cells": [
  {
   "cell_type": "code",
   "execution_count": 202,
   "metadata": {},
   "outputs": [],
   "source": [
    "import os\n",
    "import json\n",
    "import time\n",
    "import random\n",
    "import requests\n",
    "import numpy as np\n",
    "import pandas as pd\n",
    "from tqdm import tqdm\n",
    "from fake_useragent import UserAgent\n",
    "from openpyxl.utils import get_column_letter"
   ]
  },
  {
   "cell_type": "code",
   "execution_count": 128,
   "metadata": {},
   "outputs": [],
   "source": [
    "CDK = \"3c51dd63-4127-4f0b-a9b9-42274e246195\"\n",
    "BASE_URL = \"https://game.wangzhedingwei.com/api/v1/cdk/rank\"\n",
    "ua = UserAgent(use_cache_server=False)"
   ]
  },
  {
   "cell_type": "code",
   "execution_count": 129,
   "metadata": {},
   "outputs": [],
   "source": [
    "game_area_dict = {\n",
    "    \"苹果微信\": 1,\n",
    "    \"安卓微信\": 2,\n",
    "    \"苹果QQ\": 3,\n",
    "    \"安卓QQ\": 4,\n",
    "}"
   ]
  },
  {
   "cell_type": "code",
   "execution_count": 130,
   "metadata": {},
   "outputs": [],
   "source": [
    "hero_list = requests.get(\n",
    "        url=\"https://game.wangzhedingwei.com/api/v1/hero/list?keywords=&output=json\",\n",
    "        headers={'User-Agent': ua.random}\n",
    "    ).json()[\"data\"][\"data\"]\n",
    "\n",
    "hero_list = pd.DataFrame(hero_list)[[\"id\", \"name\", \"photo_url\"]].rename(columns={\n",
    "    \"id\": \"英雄ID\",\n",
    "    \"name\": \"英雄名称\",\n",
    "    \"photo_url\": \"英雄头像\"\n",
    "})"
   ]
  },
  {
   "cell_type": "code",
   "execution_count": 131,
   "metadata": {},
   "outputs": [],
   "source": [
    "hero_ids = hero_list[\"英雄ID\"].unique()"
   ]
  },
  {
   "cell_type": "code",
   "execution_count": 132,
   "metadata": {},
   "outputs": [
    {
     "name": "stderr",
     "output_type": "stream",
     "text": [
      "苹果微信: 100%|██████████| 109/109 [00:25<00:00,  4.34it/s]\n",
      "安卓微信: 100%|██████████| 109/109 [00:25<00:00,  4.28it/s]\n",
      "苹果QQ: 100%|██████████| 109/109 [00:25<00:00,  4.34it/s]\n",
      "安卓QQ: 100%|██████████| 109/109 [00:24<00:00,  4.39it/s]\n"
     ]
    }
   ],
   "source": [
    "hero_rank_info = []\n",
    "for platform in game_area_dict.keys():\n",
    "    for index in tqdm(hero_ids, total=len(hero_ids), desc=platform):\n",
    "        url = f\"{BASE_URL}?cdk={CDK}&game_area={game_area_dict[platform]}&hero_id={index}\"\n",
    "        \n",
    "        response_info = requests.get(url=url, headers={'User-Agent': ua.random}).json()[\"data\"]\n",
    "\n",
    "        for t in [\"city\", \"discrict\", \"province\"]:\n",
    "            info = response_info[t]\n",
    "            \n",
    "            if info:\n",
    "                game_area = info[\"game_area\"]\n",
    "                hero_id = info[\"wzry_hero_id\"]\n",
    "                rank_type = info[\"rank_type\"]\n",
    "                rank_info = json.loads(info[\"rank_info\"])\n",
    "                \n",
    "                for rank_info in rank_info:\n",
    "                    hero_rank_info.append({\n",
    "                        \"英雄ID\": hero_id,\n",
    "                        \"游戏平台\": game_area,\n",
    "                        \"榜单类型\": rank_type,\n",
    "                        \"地区编码\": rank_info[\"adcode\"],\n",
    "                        \"排名地区\": rank_info[\"address\"],\n",
    "                        \"上榜战力\": rank_info[\"rank\"],\n",
    "                    })"
   ]
  },
  {
   "cell_type": "code",
   "execution_count": 207,
   "metadata": {},
   "outputs": [],
   "source": [
    "hero_rank = pd.DataFrame(hero_rank_info)\n",
    "hero_rank[\"游戏平台\"] = hero_rank[\"游戏平台\"].map({v: k for k, v in game_area_dict.items()})\n",
    "hero_rank[\"榜单类型\"] = hero_rank[\"榜单类型\"].map({1: \"省榜\", 2: \"市榜\", 3: \"区榜\"})\n",
    "hero_rank[\"上榜战力\"] = hero_rank[\"上榜战力\"].astype(\"int\")\n",
    "\n",
    "hero_rank_list = hero_list.merge(hero_rank, on=\"英雄ID\")\n",
    "hero_rank_list = hero_rank_list.sort_values([\"英雄ID\", \"上榜战力\"]).reset_index(drop=True)"
   ]
  },
  {
   "cell_type": "code",
   "execution_count": 208,
   "metadata": {},
   "outputs": [],
   "source": [
    "# result = hero_rank_list[['英雄ID', '英雄名称', '游戏平台', '榜单类型', '地区编码', '排名地区', '上榜战力', '英雄头像']]\n",
    "result = hero_rank_list[['英雄名称', '游戏平台', '榜单类型', '排名地区', '上榜战力']]"
   ]
  },
  {
   "cell_type": "code",
   "execution_count": 203,
   "metadata": {},
   "outputs": [],
   "source": [
    "def to_excel_auto_column_weight(df: pd.DataFrame, writer: pd.ExcelWriter, sheet_name):\n",
    "    \"\"\"DataFrame保存为excel并自动设置列宽\"\"\"\n",
    "    df.to_excel(writer, sheet_name=sheet_name, index=False)\n",
    "    #  计算表头的字符宽度\n",
    "    column_widths = (\n",
    "        df.columns.to_series().apply(lambda x: len(x.encode('gbk'))).values\n",
    "    )\n",
    "    #  计算每列的最大字符宽度\n",
    "    max_widths = (\n",
    "        df.astype(str).applymap(lambda x: len(x.encode('gbk'))).agg(max).values\n",
    "    )\n",
    "    # 计算整体最大宽度\n",
    "    widths = np.max([column_widths, max_widths], axis=0)\n",
    "    # 设置列宽\n",
    "    worksheet = writer.sheets[sheet_name]\n",
    "    for i, width in enumerate(widths, 1):\n",
    "        # openpyxl引擎设置字符宽度时会缩水0.5左右个字符，所以干脆+2使左右都空出一个字宽。\n",
    "        worksheet.column_dimensions[get_column_letter(i)].width = width + 2"
   ]
  },
  {
   "cell_type": "code",
   "execution_count": 209,
   "metadata": {},
   "outputs": [],
   "source": [
    "with pd.ExcelWriter(f'全英雄最低战力战区查询-{time.strftime(\"%Y-%m-%d\", time.localtime())}.xlsx', engine=\"openpyxl\") as writer:\n",
    "    to_excel_auto_column_weight(result, writer, f'最低战力战区')"
   ]
  },
  {
   "cell_type": "code",
   "execution_count": null,
   "metadata": {},
   "outputs": [],
   "source": [
    "# result.to_excel(f'全英雄最低战力战区查询-{time.strftime(\"%Y-%m-%d\", time.localtime())}.xlsx', index=False)"
   ]
  }
 ],
 "metadata": {
  "interpreter": {
   "hash": "0177948dbcff145ae84ddbc131e273ff1a5ebe04e7de8c37963907fffccb641c"
  },
  "kernelspec": {
   "display_name": "Python 3.8.8 ('base')",
   "language": "python",
   "name": "python3"
  },
  "language_info": {
   "codemirror_mode": {
    "name": "ipython",
    "version": 3
   },
   "file_extension": ".py",
   "mimetype": "text/x-python",
   "name": "python",
   "nbconvert_exporter": "python",
   "pygments_lexer": "ipython3",
   "version": "3.8.8"
  },
  "orig_nbformat": 4
 },
 "nbformat": 4,
 "nbformat_minor": 2
}
